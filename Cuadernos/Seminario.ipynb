{
 "cells": [
  {
   "cell_type": "markdown",
   "id": "e398175e-7aa4-459d-b0d7-2da8c94e55f1",
   "metadata": {},
   "source": [
    "***Uso de Machine Learning para la Mejora del Análisis de Reseñas de\n",
    "Clientes en Plataformas de Comercio Electrónico***\n",
    "\n",
    "**Asignatura: Seminario de Investigación**\n",
    "\n",
    "**Presentado por: Diego Benavides**"
   ]
  },
  {
   "cell_type": "code",
   "execution_count": 139,
   "id": "39605746-51d9-4145-bae9-2d5bd6b02cb1",
   "metadata": {},
   "outputs": [
    {
     "name": "stderr",
     "output_type": "stream",
     "text": [
      "[nltk_data] Downloading package stopwords to\n",
      "[nltk_data]     C:\\Users\\LENOVO\\AppData\\Roaming\\nltk_data...\n",
      "[nltk_data]   Package stopwords is already up-to-date!\n"
     ]
    }
   ],
   "source": [
    "#Importar librerías\n",
    "import pandas as pd\n",
    "import numpy as np\n",
    "import string\n",
    "import re\n",
    "import nltk\n",
    "from nltk.corpus import stopwords\n",
    "from sklearn.model_selection import train_test_split\n",
    "from sklearn.feature_extraction.text import TfidfVectorizer\n",
    "from sklearn.linear_model import LogisticRegression\n",
    "from sklearn.metrics import classification_report, confusion_matrix\n",
    "import matplotlib.pyplot as plt\n",
    "from collections import Counter\n",
    "\n",
    "# Descargar recursos de nltk si no están\n",
    "nltk.download('stopwords')\n",
    "from nltk.stem import WordNetLemmatizer"
   ]
  },
  {
   "cell_type": "code",
   "execution_count": 141,
   "id": "b082660d-6bdb-4711-85d5-91b08cc4c4f1",
   "metadata": {},
   "outputs": [],
   "source": [
    "#Cargar datos\n",
    "df = pd.read_csv('../Datos/Reviews.csv', encoding='ISO-8859-1', low_memory=False)"
   ]
  },
  {
   "cell_type": "markdown",
   "id": "7dd06806-f972-4fbe-b354-7b0a605277c0",
   "metadata": {},
   "source": [
    "**Se filtran los datos por las columnas de interés para el desarrollo del modelo**"
   ]
  },
  {
   "cell_type": "code",
   "execution_count": 143,
   "id": "0c717be1-bfb7-4187-95b8-8cfe5f8fddf9",
   "metadata": {},
   "outputs": [
    {
     "data": {
      "text/html": [
       "<div>\n",
       "<style scoped>\n",
       "    .dataframe tbody tr th:only-of-type {\n",
       "        vertical-align: middle;\n",
       "    }\n",
       "\n",
       "    .dataframe tbody tr th {\n",
       "        vertical-align: top;\n",
       "    }\n",
       "\n",
       "    .dataframe thead th {\n",
       "        text-align: right;\n",
       "    }\n",
       "</style>\n",
       "<table border=\"1\" class=\"dataframe\">\n",
       "  <thead>\n",
       "    <tr style=\"text-align: right;\">\n",
       "      <th></th>\n",
       "      <th>name</th>\n",
       "      <th>reviews.rating</th>\n",
       "      <th>reviews.text</th>\n",
       "      <th>sentimiento</th>\n",
       "    </tr>\n",
       "  </thead>\n",
       "  <tbody>\n",
       "    <tr>\n",
       "      <th>0</th>\n",
       "      <td>All-New Fire HD 8 Tablet, 8 HD Display, Wi-Fi,...</td>\n",
       "      <td>5.0</td>\n",
       "      <td>This product so far has not disappointed. My c...</td>\n",
       "      <td>1</td>\n",
       "    </tr>\n",
       "    <tr>\n",
       "      <th>1</th>\n",
       "      <td>All-New Fire HD 8 Tablet, 8 HD Display, Wi-Fi,...</td>\n",
       "      <td>5.0</td>\n",
       "      <td>great for beginner or experienced person. Boug...</td>\n",
       "      <td>1</td>\n",
       "    </tr>\n",
       "    <tr>\n",
       "      <th>2</th>\n",
       "      <td>All-New Fire HD 8 Tablet, 8 HD Display, Wi-Fi,...</td>\n",
       "      <td>5.0</td>\n",
       "      <td>Inexpensive tablet for him to use and learn on...</td>\n",
       "      <td>1</td>\n",
       "    </tr>\n",
       "    <tr>\n",
       "      <th>3</th>\n",
       "      <td>All-New Fire HD 8 Tablet, 8 HD Display, Wi-Fi,...</td>\n",
       "      <td>4.0</td>\n",
       "      <td>I've had my Fire HD 8 two weeks now and I love...</td>\n",
       "      <td>1</td>\n",
       "    </tr>\n",
       "    <tr>\n",
       "      <th>4</th>\n",
       "      <td>All-New Fire HD 8 Tablet, 8 HD Display, Wi-Fi,...</td>\n",
       "      <td>5.0</td>\n",
       "      <td>I bought this for my grand daughter when she c...</td>\n",
       "      <td>1</td>\n",
       "    </tr>\n",
       "  </tbody>\n",
       "</table>\n",
       "</div>"
      ],
      "text/plain": [
       "                                                name  reviews.rating  \\\n",
       "0  All-New Fire HD 8 Tablet, 8 HD Display, Wi-Fi,...             5.0   \n",
       "1  All-New Fire HD 8 Tablet, 8 HD Display, Wi-Fi,...             5.0   \n",
       "2  All-New Fire HD 8 Tablet, 8 HD Display, Wi-Fi,...             5.0   \n",
       "3  All-New Fire HD 8 Tablet, 8 HD Display, Wi-Fi,...             4.0   \n",
       "4  All-New Fire HD 8 Tablet, 8 HD Display, Wi-Fi,...             5.0   \n",
       "\n",
       "                                        reviews.text  sentimiento  \n",
       "0  This product so far has not disappointed. My c...            1  \n",
       "1  great for beginner or experienced person. Boug...            1  \n",
       "2  Inexpensive tablet for him to use and learn on...            1  \n",
       "3  I've had my Fire HD 8 two weeks now and I love...            1  \n",
       "4  I bought this for my grand daughter when she c...            1  "
      ]
     },
     "execution_count": 143,
     "metadata": {},
     "output_type": "execute_result"
    }
   ],
   "source": [
    "# Seleccionar las columnas necesarias\n",
    "df = df[['name', 'reviews.rating', 'reviews.text']].dropna()\n",
    "\n",
    "# Asegurarque las calificaciones sean numéricas y dentro del rango 1-5\n",
    "df['reviews.rating'] = pd.to_numeric(df['reviews.rating'], errors='coerce')\n",
    "df = df[df['reviews.rating'].isin([1, 2, 3, 4, 5])]\n",
    "\n",
    "# Filtrar reseñas claramente positivas o negativas (excluimos las neutras = 3)\n",
    "df = df[df['reviews.rating'] != 3]\n",
    "\n",
    "# Creamos la columna de sentimiento\n",
    "df['sentimiento'] = df['reviews.rating'].apply(lambda x: 1 if x >= 4 else 0)\n",
    "\n",
    "# Mostramos una muestra\n",
    "df.head()\n"
   ]
  },
  {
   "cell_type": "markdown",
   "id": "f35d7039-e832-467c-9570-fc99bce2c3fe",
   "metadata": {},
   "source": [
    "Determinar si existen desbalances"
   ]
  },
  {
   "cell_type": "code",
   "execution_count": 145,
   "id": "86db6d8f-f169-4f99-a959-c0868f93b8dc",
   "metadata": {},
   "outputs": [
    {
     "data": {
      "image/png": "[encoded data removed]",
      "text/plain": [
       "<Figure size 640x480 with 1 Axes>"
      ]
     },
     "metadata": {},
     "output_type": "display_data"
    }
   ],
   "source": [
    "# Conteo de reseñas positivas y negativas\n",
    "conteo_sentimientos = df['sentimiento'].value_counts().sort_index()\n",
    "\n",
    "# Usar color en el orden correcto: 0 = negativo (rojo), 1 = positivo (verde)\n",
    "conteo_sentimientos.plot(kind='bar', color=['red', 'green'])\n",
    "\n",
    "plt.title('Distribución de reseñas')\n",
    "plt.xticks(ticks=[0, 1], labels=['Negativas (0)', 'Positivas (1)'], rotation=0)\n",
    "plt.xlabel('Sentimiento')\n",
    "plt.ylabel('Cantidad de reseñas')\n",
    "plt.show()\n"
   ]
  },
  {
   "cell_type": "markdown",
   "id": "b43c3d6e-6fff-423e-9292-f519378cbe46",
   "metadata": {},
   "source": [
    "Nota: Existe un desbalanceo en los datos, por lo que se procede a balancear el dataset"
   ]
  },
  {
   "cell_type": "code",
   "execution_count": 147,
   "id": "02f3b573-254c-4881-9fda-7e3135960398",
   "metadata": {},
   "outputs": [
    {
     "name": "stdout",
     "output_type": "stream",
     "text": [
      "sentimiento\n",
      "1    665\n",
      "0    665\n",
      "Name: count, dtype: int64\n"
     ]
    }
   ],
   "source": [
    "from sklearn.utils import resample\n",
    "\n",
    "# Separar clases\n",
    "positivas = df[df['sentimiento'] == 1]\n",
    "negativas = df[df['sentimiento'] == 0]\n",
    "\n",
    "# Submuestreo de la clase mayoritaria (positivas)\n",
    "positivas_balanceadas = resample(positivas,\n",
    "                                 replace=False,     # sin reemplazo\n",
    "                                 n_samples=len(negativas),  # igualar cantidad\n",
    "                                 random_state=42)\n",
    "\n",
    "# Unir ambas clases balanceadas\n",
    "df_balanceado = pd.concat([negativas, positivas_balanceadas])\n",
    "\n",
    "# Mezclar el dataset\n",
    "df_balanceado = df_balanceado.sample(frac=1, random_state=42).reset_index(drop=True)\n",
    "\n",
    "# Verificar\n",
    "print(df_balanceado['sentimiento'].value_counts())\n"
   ]
  },
  {
   "cell_type": "code",
   "execution_count": 149,
   "id": "a67fb62b-cc3d-46aa-a7c4-6a90ebde838b",
   "metadata": {},
   "outputs": [
    {
     "data": {
      "image/png": "[encoded data removed]",
      "text/plain": [
       "<Figure size 640x480 with 1 Axes>"
      ]
     },
     "metadata": {},
     "output_type": "display_data"
    }
   ],
   "source": [
    "#Gráfico post balance\n",
    "conteo_balanceado = df_balanceado['sentimiento'].value_counts().sort_index()\n",
    "conteo_balanceado.plot(kind='bar', color=['red', 'green'])\n",
    "\n",
    "plt.title('Distribución balanceada de reseñas')\n",
    "plt.xticks(ticks=[0, 1], labels=['Negativas (0)', 'Positivas (1)'], rotation=0)\n",
    "plt.xlabel('Sentimiento')\n",
    "plt.ylabel('Cantidad de reseñas')\n",
    "plt.show()\n"
   ]
  },
  {
   "cell_type": "markdown",
   "id": "aa8c77e5-1aa5-446b-95d4-690d73c10efb",
   "metadata": {},
   "source": [
    "Preprocesamiento del texto\n",
    "\n",
    "Esto busca lograr lo siguiente:\n",
    "\n",
    "- Poner todo en minúsculas\n",
    "- Eliminar signos de puntuación y números\n",
    "- Eliminar stopwords (palabras vacías)\n",
    "- Tokenizar y lematizar"
   ]
  },
  {
   "cell_type": "code",
   "execution_count": 151,
   "id": "70762506-6a15-48d1-a3dc-c1b4c4b8e060",
   "metadata": {
    "scrolled": true
   },
   "outputs": [],
   "source": [
    "import re\n",
    "import nltk\n",
    "from nltk.tokenize import wordpunct_tokenize\n",
    "from nltk.corpus import stopwords\n",
    "from nltk.stem import WordNetLemmatizer\n",
    "\n",
    "# Inicializamos stopwords y lematizador\n",
    "stop_words = set(stopwords.words('english'))\n",
    "lemmatizer = WordNetLemmatizer()\n",
    "\n",
    "def limpiar_texto(texto):\n",
    "    if not isinstance(texto, str):\n",
    "        return \"\"\n",
    "\n",
    "    # Minúsculas\n",
    "    texto = texto.lower()\n",
    "\n",
    "    # Eliminar etiquetas HTML, signos, números, etc.\n",
    "    texto = re.sub(r'<[^>]+>', ' ', texto)  # eliminar HTML\n",
    "    texto = re.sub(r'[^a-z\\s]', ' ', texto)  # solo letras\n",
    "    texto = re.sub(r'\\s+', ' ', texto)  # espacios múltiples\n",
    "\n",
    "    # Tokenización segura\n",
    "    tokens = wordpunct_tokenize(texto)\n",
    "\n",
    "    # Stopwords y lematización\n",
    "    tokens_limpios = [lemmatizer.lemmatize(t) for t in tokens if t not in stop_words]\n",
    "\n",
    "    return ' '.join(tokens_limpios)\n",
    "\n"
   ]
  },
  {
   "cell_type": "code",
   "execution_count": 153,
   "id": "7bcee53e-c83a-4a97-bc61-77d8dc949ed3",
   "metadata": {},
   "outputs": [
    {
     "data": {
      "text/html": [
       "<div>\n",
       "<style scoped>\n",
       "    .dataframe tbody tr th:only-of-type {\n",
       "        vertical-align: middle;\n",
       "    }\n",
       "\n",
       "    .dataframe tbody tr th {\n",
       "        vertical-align: top;\n",
       "    }\n",
       "\n",
       "    .dataframe thead th {\n",
       "        text-align: right;\n",
       "    }\n",
       "</style>\n",
       "<table border=\"1\" class=\"dataframe\">\n",
       "  <thead>\n",
       "    <tr style=\"text-align: right;\">\n",
       "      <th></th>\n",
       "      <th>reviews.text</th>\n",
       "      <th>texto_limpio</th>\n",
       "    </tr>\n",
       "  </thead>\n",
       "  <tbody>\n",
       "    <tr>\n",
       "      <th>0</th>\n",
       "      <td>I love the features and works great! Perfect g...</td>\n",
       "      <td>love feature work great perfect gift occasion</td>\n",
       "    </tr>\n",
       "    <tr>\n",
       "      <th>1</th>\n",
       "      <td>Best tablet and most affortable. Love that it ...</td>\n",
       "      <td>best tablet affortable love work must prime</td>\n",
       "    </tr>\n",
       "    <tr>\n",
       "      <th>2</th>\n",
       "      <td>Our daughter loves the size and portability of...</td>\n",
       "      <td>daughter love size portability product ipad di...</td>\n",
       "    </tr>\n",
       "    <tr>\n",
       "      <th>3</th>\n",
       "      <td>Bought the tablets for my kids. The tablet isn...</td>\n",
       "      <td>bought tablet kid tablet really friendly home ...</td>\n",
       "    </tr>\n",
       "    <tr>\n",
       "      <th>4</th>\n",
       "      <td>If you actually paid 20 for this adapter, you'...</td>\n",
       "      <td>actually paid adapter mind</td>\n",
       "    </tr>\n",
       "  </tbody>\n",
       "</table>\n",
       "</div>"
      ],
      "text/plain": [
       "                                        reviews.text  \\\n",
       "0  I love the features and works great! Perfect g...   \n",
       "1  Best tablet and most affortable. Love that it ...   \n",
       "2  Our daughter loves the size and portability of...   \n",
       "3  Bought the tablets for my kids. The tablet isn...   \n",
       "4  If you actually paid 20 for this adapter, you'...   \n",
       "\n",
       "                                        texto_limpio  \n",
       "0      love feature work great perfect gift occasion  \n",
       "1        best tablet affortable love work must prime  \n",
       "2  daughter love size portability product ipad di...  \n",
       "3  bought tablet kid tablet really friendly home ...  \n",
       "4                         actually paid adapter mind  "
      ]
     },
     "execution_count": 153,
     "metadata": {},
     "output_type": "execute_result"
    }
   ],
   "source": [
    "df_balanceado['texto_limpio'] = df_balanceado['reviews.text'].apply(limpiar_texto)\n",
    "\n",
    "# Aplicamos la función de limpieza\n",
    "df_balanceado['texto_limpio'] = df_balanceado['reviews.text'].apply(limpiar_texto)\n",
    "\n",
    "# Verificamos los resultados\n",
    "df_balanceado[['reviews.text', 'texto_limpio']].head()\n"
   ]
  },
  {
   "cell_type": "markdown",
   "id": "acd2ac43-4eda-40eb-a864-92f5aebd9138",
   "metadata": {},
   "source": [
    "Vectorización con TF-IDF\n",
    "\n",
    "- Esto busca convertir texto en vectores numéricos útiles para modelos de machine learning.\n",
    "\n",
    "Importante:\n",
    "\n",
    "\n",
    "- max_features=5000: limita el número de palabras a las 5000 más frecuentes para evitar vectores muy grandes.\n",
    "\n",
    "- fit_transform(...): ajusta el vectorizador al texto y lo transforma a una matriz esparsa.\n",
    "\n",
    "- toarray(): convierte la matriz esparsa en una matriz densa para poder visualizarla fácilmente."
   ]
  },
  {
   "cell_type": "code",
   "execution_count": 155,
   "id": "4ae44468-0cb9-4e3b-a060-b808761f1f87",
   "metadata": {},
   "outputs": [
    {
     "data": {
      "text/html": [
       "<div>\n",
       "<style scoped>\n",
       "    .dataframe tbody tr th:only-of-type {\n",
       "        vertical-align: middle;\n",
       "    }\n",
       "\n",
       "    .dataframe tbody tr th {\n",
       "        vertical-align: top;\n",
       "    }\n",
       "\n",
       "    .dataframe thead th {\n",
       "        text-align: right;\n",
       "    }\n",
       "</style>\n",
       "<table border=\"1\" class=\"dataframe\">\n",
       "  <thead>\n",
       "    <tr style=\"text-align: right;\">\n",
       "      <th></th>\n",
       "      <th>abc</th>\n",
       "      <th>ability</th>\n",
       "      <th>able</th>\n",
       "      <th>abruptly</th>\n",
       "      <th>absolute</th>\n",
       "      <th>absolutely</th>\n",
       "      <th>abuse</th>\n",
       "      <th>ac</th>\n",
       "      <th>accedently</th>\n",
       "      <th>accent</th>\n",
       "      <th>...</th>\n",
       "      <th>yo</th>\n",
       "      <th>york</th>\n",
       "      <th>young</th>\n",
       "      <th>younger</th>\n",
       "      <th>youngest</th>\n",
       "      <th>youngster</th>\n",
       "      <th>youtube</th>\n",
       "      <th>yr</th>\n",
       "      <th>yuh</th>\n",
       "      <th>zero</th>\n",
       "    </tr>\n",
       "  </thead>\n",
       "  <tbody>\n",
       "    <tr>\n",
       "      <th>0</th>\n",
       "      <td>0.0</td>\n",
       "      <td>0.0</td>\n",
       "      <td>0.0</td>\n",
       "      <td>0.0</td>\n",
       "      <td>0.0</td>\n",
       "      <td>0.0</td>\n",
       "      <td>0.0</td>\n",
       "      <td>0.0</td>\n",
       "      <td>0.0</td>\n",
       "      <td>0.0</td>\n",
       "      <td>...</td>\n",
       "      <td>0.0</td>\n",
       "      <td>0.0</td>\n",
       "      <td>0.0</td>\n",
       "      <td>0.0</td>\n",
       "      <td>0.0</td>\n",
       "      <td>0.0</td>\n",
       "      <td>0.0</td>\n",
       "      <td>0.000000</td>\n",
       "      <td>0.0</td>\n",
       "      <td>0.0</td>\n",
       "    </tr>\n",
       "    <tr>\n",
       "      <th>1</th>\n",
       "      <td>0.0</td>\n",
       "      <td>0.0</td>\n",
       "      <td>0.0</td>\n",
       "      <td>0.0</td>\n",
       "      <td>0.0</td>\n",
       "      <td>0.0</td>\n",
       "      <td>0.0</td>\n",
       "      <td>0.0</td>\n",
       "      <td>0.0</td>\n",
       "      <td>0.0</td>\n",
       "      <td>...</td>\n",
       "      <td>0.0</td>\n",
       "      <td>0.0</td>\n",
       "      <td>0.0</td>\n",
       "      <td>0.0</td>\n",
       "      <td>0.0</td>\n",
       "      <td>0.0</td>\n",
       "      <td>0.0</td>\n",
       "      <td>0.000000</td>\n",
       "      <td>0.0</td>\n",
       "      <td>0.0</td>\n",
       "    </tr>\n",
       "    <tr>\n",
       "      <th>2</th>\n",
       "      <td>0.0</td>\n",
       "      <td>0.0</td>\n",
       "      <td>0.0</td>\n",
       "      <td>0.0</td>\n",
       "      <td>0.0</td>\n",
       "      <td>0.0</td>\n",
       "      <td>0.0</td>\n",
       "      <td>0.0</td>\n",
       "      <td>0.0</td>\n",
       "      <td>0.0</td>\n",
       "      <td>...</td>\n",
       "      <td>0.0</td>\n",
       "      <td>0.0</td>\n",
       "      <td>0.0</td>\n",
       "      <td>0.0</td>\n",
       "      <td>0.0</td>\n",
       "      <td>0.0</td>\n",
       "      <td>0.0</td>\n",
       "      <td>0.000000</td>\n",
       "      <td>0.0</td>\n",
       "      <td>0.0</td>\n",
       "    </tr>\n",
       "    <tr>\n",
       "      <th>3</th>\n",
       "      <td>0.0</td>\n",
       "      <td>0.0</td>\n",
       "      <td>0.0</td>\n",
       "      <td>0.0</td>\n",
       "      <td>0.0</td>\n",
       "      <td>0.0</td>\n",
       "      <td>0.0</td>\n",
       "      <td>0.0</td>\n",
       "      <td>0.0</td>\n",
       "      <td>0.0</td>\n",
       "      <td>...</td>\n",
       "      <td>0.0</td>\n",
       "      <td>0.0</td>\n",
       "      <td>0.0</td>\n",
       "      <td>0.0</td>\n",
       "      <td>0.0</td>\n",
       "      <td>0.0</td>\n",
       "      <td>0.0</td>\n",
       "      <td>0.233053</td>\n",
       "      <td>0.0</td>\n",
       "      <td>0.0</td>\n",
       "    </tr>\n",
       "    <tr>\n",
       "      <th>4</th>\n",
       "      <td>0.0</td>\n",
       "      <td>0.0</td>\n",
       "      <td>0.0</td>\n",
       "      <td>0.0</td>\n",
       "      <td>0.0</td>\n",
       "      <td>0.0</td>\n",
       "      <td>0.0</td>\n",
       "      <td>0.0</td>\n",
       "      <td>0.0</td>\n",
       "      <td>0.0</td>\n",
       "      <td>...</td>\n",
       "      <td>0.0</td>\n",
       "      <td>0.0</td>\n",
       "      <td>0.0</td>\n",
       "      <td>0.0</td>\n",
       "      <td>0.0</td>\n",
       "      <td>0.0</td>\n",
       "      <td>0.0</td>\n",
       "      <td>0.000000</td>\n",
       "      <td>0.0</td>\n",
       "      <td>0.0</td>\n",
       "    </tr>\n",
       "  </tbody>\n",
       "</table>\n",
       "<p>5 rows × 3114 columns</p>\n",
       "</div>"
      ],
      "text/plain": [
       "   abc  ability  able  abruptly  absolute  absolutely  abuse   ac  accedently  \\\n",
       "0  0.0      0.0   0.0       0.0       0.0         0.0    0.0  0.0         0.0   \n",
       "1  0.0      0.0   0.0       0.0       0.0         0.0    0.0  0.0         0.0   \n",
       "2  0.0      0.0   0.0       0.0       0.0         0.0    0.0  0.0         0.0   \n",
       "3  0.0      0.0   0.0       0.0       0.0         0.0    0.0  0.0         0.0   \n",
       "4  0.0      0.0   0.0       0.0       0.0         0.0    0.0  0.0         0.0   \n",
       "\n",
       "   accent  ...   yo  york  young  younger  youngest  youngster  youtube  \\\n",
       "0     0.0  ...  0.0   0.0    0.0      0.0       0.0        0.0      0.0   \n",
       "1     0.0  ...  0.0   0.0    0.0      0.0       0.0        0.0      0.0   \n",
       "2     0.0  ...  0.0   0.0    0.0      0.0       0.0        0.0      0.0   \n",
       "3     0.0  ...  0.0   0.0    0.0      0.0       0.0        0.0      0.0   \n",
       "4     0.0  ...  0.0   0.0    0.0      0.0       0.0        0.0      0.0   \n",
       "\n",
       "         yr  yuh  zero  \n",
       "0  0.000000  0.0   0.0  \n",
       "1  0.000000  0.0   0.0  \n",
       "2  0.000000  0.0   0.0  \n",
       "3  0.233053  0.0   0.0  \n",
       "4  0.000000  0.0   0.0  \n",
       "\n",
       "[5 rows x 3114 columns]"
      ]
     },
     "execution_count": 155,
     "metadata": {},
     "output_type": "execute_result"
    }
   ],
   "source": [
    "from sklearn.feature_extraction.text import TfidfVectorizer\n",
    "\n",
    "# Creamos el vectorizador\n",
    "vectorizador = TfidfVectorizer(max_features=5000)  # puedes ajustar este número si deseas\n",
    "\n",
    "# Ajustamos y transformamos el texto\n",
    "X_vectores = vectorizador.fit_transform(df_balanceado['texto_limpio'])\n",
    "\n",
    "# Convertimos a un DataFrame para inspección si se desea\n",
    "X_vectores_df = pd.DataFrame(X_vectores.toarray(), columns=vectorizador.get_feature_names_out())\n",
    "\n",
    "# Mostramos algunas columnas y filas\n",
    "X_vectores_df.head()\n"
   ]
  },
  {
   "cell_type": "markdown",
   "id": "395db672-dddd-470c-947c-c24ae1f98135",
   "metadata": {},
   "source": [
    "Nota:\n",
    "\n",
    "Cada fila representa una reseña, y cada columna una palabra (o término) entre las 5000 más importantes del corpus. Los valores son pesos TF-IDF: reflejan qué tan relevante es una palabra en una reseña, comparada con todas las demás."
   ]
  },
  {
   "cell_type": "markdown",
   "id": "d46313de-3775-4142-80e0-848f4c3e6159",
   "metadata": {},
   "source": [
    "División en conjuntos de entrenamiento y prueba"
   ]
  },
  {
   "cell_type": "code",
   "execution_count": 157,
   "id": "fcf440e6-4313-4010-bb3a-4060e7ea6b64",
   "metadata": {},
   "outputs": [
    {
     "name": "stdout",
     "output_type": "stream",
     "text": [
      "Tamaño del conjunto de entrenamiento: (1064, 3114)\n",
      "Tamaño del conjunto de prueba: (266, 3114)\n"
     ]
    }
   ],
   "source": [
    "from sklearn.model_selection import train_test_split\n",
    "\n",
    "# Definimos variables\n",
    "X = X_vectores\n",
    "y = df_balanceado['sentimiento']  # o el nombre correcto de tu columna objetivo\n",
    "\n",
    "# División 80% entrenamiento, 20% prueba\n",
    "X_train, X_test, y_train, y_test = train_test_split(X, y, test_size=0.2, random_state=42)\n",
    "\n",
    "# Verificamos tamaños\n",
    "print(\"Tamaño del conjunto de entrenamiento:\", X_train.shape)\n",
    "print(\"Tamaño del conjunto de prueba:\", X_test.shape)\n"
   ]
  },
  {
   "cell_type": "markdown",
   "id": "bd775749-565d-453a-9aff-d370b3ab8738",
   "metadata": {},
   "source": [
    "Entrenamiento del modelo"
   ]
  },
  {
   "cell_type": "code",
   "execution_count": 159,
   "id": "6f72a18d-3eab-457a-87ed-bb8d60ba60ba",
   "metadata": {},
   "outputs": [
    {
     "name": "stdout",
     "output_type": "stream",
     "text": [
      "Accuracy: 0.849624060150376\n",
      "\n",
      "Classification Report:\n",
      "               precision    recall  f1-score   support\n",
      "\n",
      "           0       0.88      0.81      0.84       133\n",
      "           1       0.83      0.89      0.86       133\n",
      "\n",
      "    accuracy                           0.85       266\n",
      "   macro avg       0.85      0.85      0.85       266\n",
      "weighted avg       0.85      0.85      0.85       266\n",
      "\n",
      "\n",
      "Confusion Matrix:\n",
      " [[108  25]\n",
      " [ 15 118]]\n"
     ]
    }
   ],
   "source": [
    "from sklearn.naive_bayes import MultinomialNB\n",
    "from sklearn.metrics import accuracy_score, classification_report, confusion_matrix\n",
    "\n",
    "# Inicializamos y entrenamos el modelo\n",
    "modelo_nb = MultinomialNB()\n",
    "modelo_nb.fit(X_train, y_train)\n",
    "\n",
    "# Predicciones\n",
    "y_pred = modelo_nb.predict(X_test)\n",
    "\n",
    "# Evaluación del modelo\n",
    "print(\"Accuracy:\", accuracy_score(y_test, y_pred))\n",
    "print(\"\\nClassification Report:\\n\", classification_report(y_test, y_pred))\n",
    "print(\"\\nConfusion Matrix:\\n\", confusion_matrix(y_test, y_pred))\n"
   ]
  },
  {
   "cell_type": "code",
   "execution_count": 161,
   "id": "6e27c45c-e3fa-4c3a-8d50-0674ea885254",
   "metadata": {},
   "outputs": [
    {
     "data": {
      "image/png": "[encoded data removed]",
      "text/plain": [
       "<Figure size 600x400 with 2 Axes>"
      ]
     },
     "metadata": {},
     "output_type": "display_data"
    }
   ],
   "source": [
    "\n",
    "from sklearn.metrics import ConfusionMatrixDisplay\n",
    "\n",
    "# Matriz de confusión\n",
    "cm = confusion_matrix(y_test, y_pred)\n",
    "\n",
    "# Gráfico con Seaborn\n",
    "plt.figure(figsize=(6,4))\n",
    "sns.heatmap(cm, annot=True, fmt='d', cmap='Blues', xticklabels=['Negativo', 'Positivo'], yticklabels=['Negativo', 'Positivo'])\n",
    "plt.xlabel('Predicción')\n",
    "plt.ylabel('Real')\n",
    "plt.title('Matriz de Confusión - MultinomialNB')\n",
    "plt.tight_layout()\n",
    "plt.show()\n"
   ]
  },
  {
   "cell_type": "markdown",
   "id": "a445262c-39e9-478c-ba5b-0cce9c29f7b9",
   "metadata": {},
   "source": [
    "**Evaluación del modelo**\n",
    "\n",
    "- Exactitud (Accuracy): 0.85\n",
    "\n",
    "Esto indica que el modelo acertó en el 85% de los casos, lo cual es un desempeño sólido, especialmente para datos textuales.\n",
    "\n",
    "- Reporte de Clasificación:\n",
    "\n",
    "Clase 0 (negativa o no positiva):\n",
    "\n",
    "Precision: 0.88 → muy pocas veces predijo “negativa” cuando era otra cosa.\n",
    "\n",
    "Recall: 0.81 → detectó correctamente el 81% de las reseñas negativas.\n",
    "\n",
    "Clase 1 (positiva):\n",
    "\n",
    "Precision: 0.83\n",
    "\n",
    "Recall: 0.89 → muy buena recuperación de los positivos.\n",
    "\n",
    "Resumen de la evaluación:\n",
    "\n",
    "- 108 negativos bien clasificados.\n",
    "\n",
    "- 118 positivos bien clasificados.\n",
    "\n",
    "- 25 falsos positivos.\n",
    "\n",
    "- 15 falsos negativos.\n"
   ]
  },
  {
   "cell_type": "code",
   "execution_count": 165,
   "id": "9a60291e-bb1d-4213-a5f6-56e4c1916683",
   "metadata": {},
   "outputs": [
    {
     "name": "stdout",
     "output_type": "stream",
     "text": [
      "✅ Modelo y vectorizador guardados correctamente.\n"
     ]
    }
   ],
   "source": [
    "import pickle\n",
    "import os\n",
    "\n",
    "# Crea la carpeta si no existe\n",
    "os.makedirs(\"Reviews_Seminario\", exist_ok=True)\n",
    "\n",
    "# Guarda el vectorizador\n",
    "with open(\"Reviews_Seminario/vectorizador.pkl\", \"wb\") as f:\n",
    "    pickle.dump(vectorizador, f)\n",
    "\n",
    "# Guarda el modelo entrenado\n",
    "with open(\"Reviews_Seminario/modelo_naive_bayes.pkl\", \"wb\") as f:\n",
    "    pickle.dump(modelo_nb, f)\n",
    "\n",
    "print(\"✅ Modelo y vectorizador guardados correctamente.\")\n",
    "\n"
   ]
  }
 ],
 "metadata": {
  "kernelspec": {
   "display_name": "pln2025",
   "language": "python",
   "name": "pln2025"
  },
  "language_info": {
   "codemirror_mode": {
    "name": "ipython",
    "version": 3
   },
   "file_extension": ".py",
   "mimetype": "text/x-python",
   "name": "python",
   "nbconvert_exporter": "python",
   "pygments_lexer": "ipython3",
   "version": "3.13.2"
  }
 },
 "nbformat": 4,
 "nbformat_minor": 5
}
